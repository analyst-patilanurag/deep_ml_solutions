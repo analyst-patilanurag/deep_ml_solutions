{
 "cells": [
  {
   "cell_type": "markdown",
   "id": "4a7ed8ea",
   "metadata": {},
   "source": [
    "#### Problem 15 here"
   ]
  },
  {
   "cell_type": "markdown",
   "id": "7de75334",
   "metadata": {},
   "source": [
    "With NumPy"
   ]
  },
  {
   "cell_type": "code",
   "execution_count": 5,
   "id": "3aa0e2e0",
   "metadata": {},
   "outputs": [],
   "source": [
    "import numpy as np"
   ]
  },
  {
   "cell_type": "code",
   "execution_count": 8,
   "id": "e8e90193",
   "metadata": {},
   "outputs": [],
   "source": [
    "\n",
    "def linear_regression_gradient_descent(X: np.ndarray, y: np.ndarray, alpha: float, iterations: int) -> np.ndarray:\n",
    "    # Your code here, make sure to round\n",
    "    m, n = X.shape\n",
    "    y = y.reshape(-1, 1)        # ensure column vector (m, 1)\n",
    "    theta = np.zeros((n, 1))    # initialize parameters (n, 1)\n",
    "\n",
    "    # Gradient descent loop\n",
    "    for _ in range(iterations):\n",
    "        predictions = X @ theta                    # (m, 1)\n",
    "        errors = predictions - y                   # (m, 1)\n",
    "        gradient = (X.T @ errors) / m              # (n, 1)\n",
    "        theta -= alpha * gradient                  # update step\n",
    "\n",
    "    # Round to 4 decimals\n",
    "    theta = np.round(theta.flatten(), 4)\n",
    "\n",
    "    return theta"
   ]
  },
  {
   "cell_type": "code",
   "execution_count": 9,
   "id": "ccf194eb",
   "metadata": {},
   "outputs": [
    {
     "name": "stdout",
     "output_type": "stream",
     "text": [
      "[0.1107 0.9513]\n"
     ]
    }
   ],
   "source": [
    "print(linear_regression_gradient_descent(np.array([[1, 1], [1, 2], [1, 3]]), np.array([1, 2, 3]), 0.01, 1000))"
   ]
  },
  {
   "cell_type": "markdown",
   "id": "7c5696be",
   "metadata": {},
   "source": [
    "With Pytorch"
   ]
  },
  {
   "cell_type": "code",
   "execution_count": 1,
   "id": "2ae695aa",
   "metadata": {},
   "outputs": [],
   "source": [
    "import torch"
   ]
  },
  {
   "cell_type": "code",
   "execution_count": 3,
   "id": "3a9d2afb",
   "metadata": {},
   "outputs": [],
   "source": [
    "def linear_regression_gradient_descent(X, y, alpha, iterations) -> torch.Tensor:\n",
    "    \"\"\"\n",
    "    Solve linear regression via gradient descent using PyTorch autograd.\n",
    "    X: Tensor or convertible shape (m,n); y: shape (m,) or (m,1).\n",
    "    alpha: learning rate; iterations: number of steps.\n",
    "    Returns a 1-D tensor of length n, rounded to 4 decimals.\n",
    "    \"\"\"\n",
    "    X_t = torch.as_tensor(X, dtype=torch.float)\n",
    "    y_t = torch.as_tensor(y, dtype=torch.float).reshape(-1,1)\n",
    "    m, n = X_t.shape\n",
    "    theta = torch.zeros((n,1), requires_grad=True)\n",
    "    # Your implementation here\n",
    "\t# Gradient descent loop\n",
    "    for _ in range(iterations):\n",
    "        # Forward pass: predictions and MSE loss\n",
    "        y_pred = X_t @ theta                          # (m, 1)\n",
    "        loss = ((y_pred - y_t) ** 2).mean()           # Mean Squared Error\n",
    "\n",
    "        # Backward pass: compute d(loss)/d(theta)\n",
    "        loss.backward()\n",
    "\n",
    "        # Parameter update (manual SGD) and grad reset\n",
    "        with torch.no_grad():\n",
    "            theta -= alpha * theta.grad\n",
    "            theta.grad.zero_()\n",
    "\n",
    "    # Round to 4 decimals and return as 1-D tensor\n",
    "    with torch.no_grad():\n",
    "        theta = torch.round(theta * 10000) / 10000\n",
    "\n",
    "    return theta.detach().squeeze(1)"
   ]
  },
  {
   "cell_type": "code",
   "execution_count": 4,
   "id": "518d5d84",
   "metadata": {},
   "outputs": [
    {
     "name": "stdout",
     "output_type": "stream",
     "text": [
      "[3.2565999031066895, 1.9539999961853027]\n"
     ]
    }
   ],
   "source": [
    "res = linear_regression_gradient_descent( torch.eye(2), torch.tensor([5.0, 3.0]), 0.1, 10 )\n",
    "print(res.detach().numpy().tolist())"
   ]
  }
 ],
 "metadata": {
  "kernelspec": {
   "display_name": "Python 3",
   "language": "python",
   "name": "python3"
  },
  "language_info": {
   "codemirror_mode": {
    "name": "ipython",
    "version": 3
   },
   "file_extension": ".py",
   "mimetype": "text/x-python",
   "name": "python",
   "nbconvert_exporter": "python",
   "pygments_lexer": "ipython3",
   "version": "3.11.4"
  }
 },
 "nbformat": 4,
 "nbformat_minor": 5
}
