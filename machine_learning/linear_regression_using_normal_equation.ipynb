{
 "cells": [
  {
   "cell_type": "markdown",
   "id": "b0c2ad94",
   "metadata": {},
   "source": [
    "### Deep ML problem id = 14\n",
    "\n",
    "#### Write a Python function that fits a straight line (or hyperplane) to data using linear regression. Instead of using loops or gradient descent, you’ll use a direct formula called the normal equation.\n",
    "\n",
    "#### The function will take:\n",
    "\n",
    "a matrix of input features (X), where each row is a data point and each column is a feature (the first column should be all 1’s if you want an intercept term),\n",
    "\n",
    "a vector of outputs (y), which are the values you want to predict.\n",
    "\n",
    "The function should return the coefficients (the numbers that define the line or hyperplane).\n",
    "\n",
    "Finally, round each coefficient to four decimal places.\n",
    "\n",
    "A result like -0.0 is valid—it just means the value is extremely close to zero but slightly negative."
   ]
  },
  {
   "cell_type": "markdown",
   "id": "2ac661c1",
   "metadata": {},
   "source": [
    "### Example\n",
    "Input:\n",
    "\n",
    "X = [[1, 1], [1, 2], [1, 3]],\n",
    "\n",
    "y = [1, 2, 3]\n",
    "\n",
    "Output:\n",
    "\n",
    "[0.0, 1.0]\n",
    "\n",
    "Reasoning:\n",
    "\n",
    "The linear model is y = 0.0 + 1.0*x, perfectly fitting the input data."
   ]
  },
  {
   "cell_type": "code",
   "execution_count": 13,
   "id": "06513a7f",
   "metadata": {},
   "outputs": [],
   "source": [
    "# Feature Matrix\n",
    "X = [[1, 1], [1, 2], [1, 3]]\n",
    "\n",
    "# Target Vector\n",
    "y = [1, 2, 3]"
   ]
  },
  {
   "cell_type": "markdown",
   "id": "0338b730",
   "metadata": {},
   "source": [
    "### Solution"
   ]
  },
  {
   "cell_type": "markdown",
   "id": "324470cd",
   "metadata": {},
   "source": [
    "##### Using NumPy"
   ]
  },
  {
   "cell_type": "code",
   "execution_count": 14,
   "id": "22153788",
   "metadata": {},
   "outputs": [],
   "source": [
    "import numpy as np\n",
    "def linear_regression_normal_equation_numpy(X: list[list[float]], y: list[float]) -> list[float]:\n",
    "\t# Your code here, make sure to round\n",
    "\t# convert to numpy arrays\n",
    "\tX = np.array(X, dtype = float)\n",
    "\ty = np.array(y, dtype = float)\n",
    "\n",
    "\t# the equation to calculate the coefficients as follows\n",
    "\t# coeff = (X^T * X)^(-1) * X^T *y\n",
    "\ttheta = np.linalg.inv(X.T @ X) @ (X.T @ y)\n",
    "\t\n",
    "\t# Rounding off the coefficient\n",
    "\ttheta = np.round(theta, 4)\n",
    "\t\n",
    "\treturn theta.tolist()"
   ]
  },
  {
   "cell_type": "code",
   "execution_count": 15,
   "id": "ef77e632",
   "metadata": {},
   "outputs": [
    {
     "name": "stdout",
     "output_type": "stream",
     "text": [
      "[-0.0, 1.0]\n"
     ]
    }
   ],
   "source": [
    "print(linear_regression_normal_equation_numpy(X,y))"
   ]
  },
  {
   "cell_type": "markdown",
   "id": "c4a37372",
   "metadata": {},
   "source": [
    "##### Using PyTorch"
   ]
  },
  {
   "cell_type": "code",
   "execution_count": 16,
   "id": "f44dc98c",
   "metadata": {},
   "outputs": [],
   "source": [
    "import torch\n",
    "\n",
    "def linear_regression_normal_equation_torch(X: list[list[float]], y: list[float]) -> list[float]:\n",
    "    # convert to torch tensors\n",
    "    X = torch.tensor(X, dtype=torch.float32)\n",
    "    y = torch.tensor(y, dtype=torch.float32)\n",
    "\n",
    "    # the equation to calculate the coefficients as follows\n",
    "    # coeff = (X^T * X)^(-1) * X^T *y\n",
    "    theta = torch.linalg.inv(X.T @ X) @ (X.T @ y)\n",
    "\n",
    "    # Rounding off the coefficient\n",
    "    theta = torch.round(theta * 10000) / 10000  # PyTorch doesn’t have np.round with decimals\n",
    "\n",
    "    return theta.tolist()\n"
   ]
  },
  {
   "cell_type": "code",
   "execution_count": 17,
   "id": "ab1f7447",
   "metadata": {},
   "outputs": [
    {
     "name": "stdout",
     "output_type": "stream",
     "text": [
      "[0.0, 1.0]\n"
     ]
    }
   ],
   "source": [
    "print(linear_regression_normal_equation_torch(X,y))"
   ]
  }
 ],
 "metadata": {
  "kernelspec": {
   "display_name": "Python 3",
   "language": "python",
   "name": "python3"
  },
  "language_info": {
   "codemirror_mode": {
    "name": "ipython",
    "version": 3
   },
   "file_extension": ".py",
   "mimetype": "text/x-python",
   "name": "python",
   "nbconvert_exporter": "python",
   "pygments_lexer": "ipython3",
   "version": "3.11.4"
  }
 },
 "nbformat": 4,
 "nbformat_minor": 5
}
